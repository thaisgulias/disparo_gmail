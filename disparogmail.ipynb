{
  "nbformat": 4,
  "nbformat_minor": 0,
  "metadata": {
    "colab": {
      "provenance": [],
      "collapsed_sections": [
        "pRfc5h8lSc1s"
      ],
      "authorship_tag": "ABX9TyOVMM4LWcxWVA6zYy3ZzL+G"
    },
    "kernelspec": {
      "name": "python3",
      "display_name": "Python 3"
    },
    "language_info": {
      "name": "python"
    }
  },
  "cells": [
    {
      "cell_type": "markdown",
      "source": [
        "## ENVIO E-MAIL- GMAIL"
      ],
      "metadata": {
        "id": "DrvfJ_oJ_MP1"
      }
    },
    {
      "cell_type": "code",
      "source": [
        "import smtplib\n",
        "import email.message"
      ],
      "metadata": {
        "id": "-CxtHe_SPQdA"
      },
      "execution_count": null,
      "outputs": []
    },
    {
      "cell_type": "code",
      "source": [
        "def enviar_email(destinatario, nome_requerente, nome_candidato, status, protocol):\n",
        "    # Define o assunto e corpo do e-mail com base no status\n",
        "    if status == \"indeferido\":\n",
        "        assunto = \"Indeferida\"\n",
        "        corpo_email = f\"\"\"\n",
        "        <p>Olá {nome_requerente},</p>\n",
        "        <p>Informamos que sua solicitação de Transferência Escolar - Educação Infantil sob o <b>protocolo {protocol}</b> foi indeferida.</p>\n",
        "\n",
        "        \"\"\"\n",
        "\n",
        "    elif status == \"contemplado\":\n",
        "        assunto = \"CONTEMPLADA\"\n",
        "        corpo_email = f\"\"\"\n",
        "        <p>Olá {nome_requerente},</p>\n",
        "        <p>Informamos que a criança para qual foi solicitada a Transferência de Unidade de Educação - Educação Infantil sob o <b>protocolo {protocol}</b> foi contemplada com a vaga na Unidade de Educação pretendida.</p>\n",
        "\n",
        "        \"\"\"\n",
        "\n",
        "    elif status == \"não contemplado\":\n",
        "        assunto = \"NÃO CONTEMPLADA\"\n",
        "        corpo_email = f\"\"\"\n",
        "        <p>Olá {nome_requerente},</p>\n",
        "        <p>Informamos que a criança para qual foi solicitada a Transferência de Unidade de Educação - Educação Infantil sob o <b>protocolo {protocol}</b> não foi contemplada com a vaga na Unidade de Educação pretendida\n",
        "        \"\"\"\n",
        "\n",
        "    else:\n",
        "        # Caso o status seja desconhecido\n",
        "        assunto = \"Status desconhecido\"\n",
        "        corpo_email = f\"<p>Olá {nome_requerente},<br>Não conseguimos processar sua solicitação devido a um status desconhecido.</p>\"\n",
        "\n",
        "    # Configuração do e-mail\n",
        "    msg = email.message.Message()\n",
        "    msg['Subject'] = assunto\n",
        "    msg['From'] = 'email'\n",
        "    msg['To'] = destinatario\n",
        "    password = 'senhaapp'\n",
        "    msg.add_header('Content-Type', 'text/html')\n",
        "    msg.set_payload(corpo_email)\n",
        "\n",
        "    try:\n",
        "        # Configuração do servidor SMTP\n",
        "        s = smtplib.SMTP('smtp.gmail.com: 587')\n",
        "        s.starttls()\n",
        "        s.login(msg['From'], password)\n",
        "\n",
        "        # Envia o e-mail\n",
        "        s.sendmail(msg['From'], [msg['To']], msg.as_string().encode('utf-8'))\n",
        "        print(f\"E-mail enviado para {destinatario}\")\n",
        "\n",
        "        s.quit()  # Fecha a conexão\n",
        "    except Exception as e:\n",
        "        print(f\"Erro ao enviar e-mail para {destinatario}: {e}\")\n"
      ],
      "metadata": {
        "id": "ZoLPWcun1ibx"
      },
      "execution_count": null,
      "outputs": []
    },
    {
      "cell_type": "code",
      "source": [
        "# Iterar pelas linhas do DataFrame e enviar e-mails\n",
        "for index, row in transformed_df.iterrows():\n",
        "    enviar_email(\n",
        "        row['email_para_contato'],\n",
        "        row['nome_completo_do_requerente'],\n",
        "        row['nome_completo_doa_estudante'],\n",
        "        row['status'],\n",
        "        row['protocol']\n",
        "    )"
      ],
      "metadata": {
        "id": "LpHh1gnpgtQz",
        "collapsed": true
      },
      "execution_count": null,
      "outputs": []
    }
  ]
}